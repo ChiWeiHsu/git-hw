{
 "cells": [
  {
   "cell_type": "code",
   "execution_count": 10,
   "metadata": {
    "collapsed": true
   },
   "outputs": [],
   "source": [
    "import os  #載入模組"
   ]
  },
  {
   "cell_type": "code",
   "execution_count": 19,
   "metadata": {},
   "outputs": [
    {
     "name": "stdout",
     "output_type": "stream",
     "text": [
      "Hello World!\n",
      "This is Alice's greeting\n",
      "This is Bob's greeting\n",
      "5 plus 10 is equal to 15\n",
      "foo\n",
      "==========\n",
      "Current working directory is C:\\Users\\Warren Hsu\\Documents\n",
      "I like to it apples\n",
      "I like to it oranges\n",
      "I like to it cats\n",
      "count to ten:\n",
      "0\n",
      "1\n",
      "2\n",
      "3\n",
      "4\n",
      "5\n",
      "6\n",
      "7\n",
      "8\n",
      "9\n"
     ]
    }
   ],
   "source": [
    "def main():                                                            #定義函數，記得()，裡面為未來輸入參數，還未完成，且需要繼續\n",
    "                                                                       #執行時，別忘記:號\n",
    "    print (\"Hello World!\")\n",
    "    print (\"This is Alice's greeting\")                                 #印出字串 ()記得加，'',\"\"中間都加入字串\n",
    "    print (\"This is Bob's greeting\")\n",
    "\n",
    "    foo(5,10)\n",
    "    \n",
    "    print('='*10)                                                      #印出幾次字串，如果要100次，後面改為100即可\n",
    "    print('Current working directory is '+ os.getcwd())                #字串+後面的指令(開啟的檔案在何處?)\n",
    "    \n",
    "    counter=0                                                          #改與變數\n",
    "    counter+=1\n",
    "    \n",
    "    food=['apples','oranges','cats']                                   #定義food為何?\n",
    "    for i in food:\n",
    "        print ('I like to it ' + i)                                    #如果參數在food中，就做出以下指令\n",
    "    print (\"count to ten:\")\n",
    "    for i in range (10):                                               #數數字，從0開始，至輸入值結束，所以這邊會到10結束，故不會印出10\n",
    "         print (i)\n",
    "\n",
    "def foo(a,b):\n",
    "    res=a+b\n",
    "    print ('{} plus {} is equal to {}'.format(a,b,res))                #定義函數，{}為輸入參數，併成字串\n",
    "    \n",
    "    if res<50:                                                         #如果 res<50 ，印出foo\n",
    "        print (\"foo\")\n",
    "    elif res>=50 and ((a==42) or (b==24)):                             #如果res>=50且 參數a、參數b分別等於42、24就印出bar\n",
    "        print (\"bar\")\n",
    "    else:\n",
    "        print(\"moo\")                                                   #皆不是就印出moo\n",
    "    return res\n",
    "\n",
    "if __name__==\"__main__\":                                               #定義執行與被執行\n",
    "    main()"
   ]
  },
  {
   "cell_type": "code",
   "execution_count": null,
   "metadata": {
    "collapsed": true
   },
   "outputs": [],
   "source": []
  },
  {
   "cell_type": "code",
   "execution_count": null,
   "metadata": {
    "collapsed": true
   },
   "outputs": [],
   "source": []
  },
  {
   "cell_type": "code",
   "execution_count": null,
   "metadata": {},
   "outputs": [],
   "source": []
  },
  {
   "cell_type": "code",
   "execution_count": null,
   "metadata": {
    "collapsed": true
   },
   "outputs": [],
   "source": []
  },
  {
   "cell_type": "code",
   "execution_count": null,
   "metadata": {},
   "outputs": [],
   "source": []
  },
  {
   "cell_type": "code",
   "execution_count": null,
   "metadata": {
    "collapsed": true
   },
   "outputs": [],
   "source": []
  },
  {
   "cell_type": "code",
   "execution_count": null,
   "metadata": {
    "collapsed": true
   },
   "outputs": [],
   "source": []
  },
  {
   "cell_type": "code",
   "execution_count": null,
   "metadata": {
    "collapsed": true
   },
   "outputs": [],
   "source": []
  },
  {
   "cell_type": "code",
   "execution_count": null,
   "metadata": {
    "collapsed": true
   },
   "outputs": [],
   "source": []
  },
  {
   "cell_type": "code",
   "execution_count": null,
   "metadata": {
    "collapsed": true
   },
   "outputs": [],
   "source": []
  },
  {
   "cell_type": "code",
   "execution_count": null,
   "metadata": {
    "collapsed": true
   },
   "outputs": [],
   "source": []
  },
  {
   "cell_type": "code",
   "execution_count": null,
   "metadata": {},
   "outputs": [],
   "source": []
  },
  {
   "cell_type": "code",
   "execution_count": null,
   "metadata": {
    "collapsed": true
   },
   "outputs": [],
   "source": []
  },
  {
   "cell_type": "code",
   "execution_count": null,
   "metadata": {
    "scrolled": true
   },
   "outputs": [],
   "source": []
  },
  {
   "cell_type": "code",
   "execution_count": null,
   "metadata": {
    "collapsed": true
   },
   "outputs": [],
   "source": []
  },
  {
   "cell_type": "code",
   "execution_count": null,
   "metadata": {},
   "outputs": [],
   "source": []
  },
  {
   "cell_type": "code",
   "execution_count": null,
   "metadata": {
    "collapsed": true
   },
   "outputs": [],
   "source": []
  },
  {
   "cell_type": "code",
   "execution_count": null,
   "metadata": {
    "collapsed": true
   },
   "outputs": [],
   "source": []
  },
  {
   "cell_type": "code",
   "execution_count": null,
   "metadata": {},
   "outputs": [],
   "source": []
  },
  {
   "cell_type": "code",
   "execution_count": null,
   "metadata": {
    "collapsed": true
   },
   "outputs": [],
   "source": []
  },
  {
   "cell_type": "code",
   "execution_count": null,
   "metadata": {
    "collapsed": true
   },
   "outputs": [],
   "source": []
  },
  {
   "cell_type": "code",
   "execution_count": null,
   "metadata": {
    "collapsed": true
   },
   "outputs": [],
   "source": []
  },
  {
   "cell_type": "code",
   "execution_count": null,
   "metadata": {
    "collapsed": true
   },
   "outputs": [],
   "source": []
  }
 ],
 "metadata": {
  "kernelspec": {
   "display_name": "Python 3",
   "language": "python",
   "name": "python3"
  },
  "language_info": {
   "codemirror_mode": {
    "name": "ipython",
    "version": 3
   },
   "file_extension": ".py",
   "mimetype": "text/x-python",
   "name": "python",
   "nbconvert_exporter": "python",
   "pygments_lexer": "ipython3",
   "version": "3.6.2"
  }
 },
 "nbformat": 4,
 "nbformat_minor": 2
}
