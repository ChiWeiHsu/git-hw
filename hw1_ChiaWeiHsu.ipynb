{
 "cells": [
  {
   "cell_type": "code",
   "execution_count": 2,
   "metadata": {},
   "outputs": [
    {
     "data": {
      "text/html": [
       "<div>\n",
       "<style>\n",
       "    .dataframe thead tr:only-child th {\n",
       "        text-align: right;\n",
       "    }\n",
       "\n",
       "    .dataframe thead th {\n",
       "        text-align: left;\n",
       "    }\n",
       "\n",
       "    .dataframe tbody tr th {\n",
       "        vertical-align: top;\n",
       "    }\n",
       "</style>\n",
       "<table border=\"1\" class=\"dataframe\">\n",
       "  <thead>\n",
       "    <tr style=\"text-align: right;\">\n",
       "      <th></th>\n",
       "      <th>Symbol</th>\n",
       "      <th>Name</th>\n",
       "      <th>LastSale</th>\n",
       "      <th>MarketCap</th>\n",
       "      <th>ADR TSO</th>\n",
       "      <th>IPOyear</th>\n",
       "      <th>Sector</th>\n",
       "      <th>Industry</th>\n",
       "      <th>Summary Quote</th>\n",
       "      <th>Unnamed: 9</th>\n",
       "    </tr>\n",
       "  </thead>\n",
       "  <tbody>\n",
       "    <tr>\n",
       "      <th>0</th>\n",
       "      <td>PIH</td>\n",
       "      <td>1347 Property Insurance Holdings, Inc.</td>\n",
       "      <td>7.1248</td>\n",
       "      <td>4.244077e+07</td>\n",
       "      <td>n/a</td>\n",
       "      <td>2014</td>\n",
       "      <td>Finance</td>\n",
       "      <td>Property-Casualty Insurers</td>\n",
       "      <td>http://www.nasdaq.com/symbol/pih</td>\n",
       "      <td>NaN</td>\n",
       "    </tr>\n",
       "    <tr>\n",
       "      <th>1</th>\n",
       "      <td>TURN</td>\n",
       "      <td>180 Degree Capital Corp.</td>\n",
       "      <td>1.89</td>\n",
       "      <td>5.881975e+07</td>\n",
       "      <td>n/a</td>\n",
       "      <td>n/a</td>\n",
       "      <td>Finance</td>\n",
       "      <td>Finance/Investors Services</td>\n",
       "      <td>http://www.nasdaq.com/symbol/turn</td>\n",
       "      <td>NaN</td>\n",
       "    </tr>\n",
       "    <tr>\n",
       "      <th>2</th>\n",
       "      <td>FLWS</td>\n",
       "      <td>1-800 FLOWERS.COM, Inc.</td>\n",
       "      <td>9.4</td>\n",
       "      <td>6.098620e+08</td>\n",
       "      <td>n/a</td>\n",
       "      <td>1999</td>\n",
       "      <td>Consumer Services</td>\n",
       "      <td>Other Specialty Stores</td>\n",
       "      <td>http://www.nasdaq.com/symbol/flws</td>\n",
       "      <td>NaN</td>\n",
       "    </tr>\n",
       "    <tr>\n",
       "      <th>3</th>\n",
       "      <td>FCCY</td>\n",
       "      <td>1st Constitution Bancorp (NJ)</td>\n",
       "      <td>18</td>\n",
       "      <td>1.452469e+08</td>\n",
       "      <td>n/a</td>\n",
       "      <td>n/a</td>\n",
       "      <td>Finance</td>\n",
       "      <td>Savings Institutions</td>\n",
       "      <td>http://www.nasdaq.com/symbol/fccy</td>\n",
       "      <td>NaN</td>\n",
       "    </tr>\n",
       "    <tr>\n",
       "      <th>4</th>\n",
       "      <td>SRCE</td>\n",
       "      <td>1st Source Corporation</td>\n",
       "      <td>51.31</td>\n",
       "      <td>1.330783e+09</td>\n",
       "      <td>n/a</td>\n",
       "      <td>n/a</td>\n",
       "      <td>Finance</td>\n",
       "      <td>Major Banks</td>\n",
       "      <td>http://www.nasdaq.com/symbol/srce</td>\n",
       "      <td>NaN</td>\n",
       "    </tr>\n",
       "  </tbody>\n",
       "</table>\n",
       "</div>"
      ],
      "text/plain": [
       "  Symbol                                    Name LastSale     MarketCap  \\\n",
       "0    PIH  1347 Property Insurance Holdings, Inc.   7.1248  4.244077e+07   \n",
       "1   TURN                180 Degree Capital Corp.     1.89  5.881975e+07   \n",
       "2   FLWS                 1-800 FLOWERS.COM, Inc.      9.4  6.098620e+08   \n",
       "3   FCCY           1st Constitution Bancorp (NJ)       18  1.452469e+08   \n",
       "4   SRCE                  1st Source Corporation    51.31  1.330783e+09   \n",
       "\n",
       "  ADR TSO IPOyear             Sector                    Industry  \\\n",
       "0     n/a    2014            Finance  Property-Casualty Insurers   \n",
       "1     n/a     n/a            Finance  Finance/Investors Services   \n",
       "2     n/a    1999  Consumer Services      Other Specialty Stores   \n",
       "3     n/a     n/a            Finance        Savings Institutions   \n",
       "4     n/a     n/a            Finance                 Major Banks   \n",
       "\n",
       "                       Summary Quote  Unnamed: 9  \n",
       "0   http://www.nasdaq.com/symbol/pih         NaN  \n",
       "1  http://www.nasdaq.com/symbol/turn         NaN  \n",
       "2  http://www.nasdaq.com/symbol/flws         NaN  \n",
       "3  http://www.nasdaq.com/symbol/fccy         NaN  \n",
       "4  http://www.nasdaq.com/symbol/srce         NaN  "
      ]
     },
     "execution_count": 2,
     "metadata": {},
     "output_type": "execute_result"
    }
   ],
   "source": [
    "import pandas as pd\n",
    "url=\"http://www.nasdaq.com/screening/companies-by-industry.aspx?exchange=NASADAQ&render=download\"\n",
    "df = pd.read_csv(url)\n",
    "df.head()"
   ]
  },
  {
   "cell_type": "code",
   "execution_count": 5,
   "metadata": {
    "collapsed": true
   },
   "outputs": [],
   "source": [
    "import folium\n",
    "import geocoder"
   ]
  },
  {
   "cell_type": "code",
   "execution_count": 7,
   "metadata": {
    "collapsed": true
   },
   "outputs": [],
   "source": [
    "location=geocoder.google('中山大學管理學院').latlng"
   ]
  },
  {
   "cell_type": "code",
   "execution_count": 8,
   "metadata": {},
   "outputs": [
    {
     "data": {
      "text/plain": [
       "[22.627447, 120.265274]"
      ]
     },
     "execution_count": 8,
     "metadata": {},
     "output_type": "execute_result"
    }
   ],
   "source": [
    "location"
   ]
  },
  {
   "cell_type": "code",
   "execution_count": 14,
   "metadata": {},
   "outputs": [
    {
     "data": {
      "text/html": [
       "<div style=\"width:100%;\"><div style=\"position:relative;width:100%;height:0;padding-bottom:60%;\"><iframe src=\"data:text/html;charset=utf-8;base64,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\" style=\"position:absolute;width:100%;height:100%;left:0;top:0;border:none !important;\" allowfullscreen webkitallowfullscreen mozallowfullscreen></iframe></div></div>"
      ],
      "text/plain": [
       "<folium.folium.Map at 0x1a8d96fae80>"
      ]
     },
     "execution_count": 14,
     "metadata": {},
     "output_type": "execute_result"
    }
   ],
   "source": [
    "folium.Map(location=[22.627447, 120.265274])\n"
   ]
  },
  {
   "cell_type": "code",
   "execution_count": 17,
   "metadata": {
    "collapsed": true
   },
   "outputs": [],
   "source": [
    "import util\n",
    "import jieba\n",
    "import jieba.analyse"
   ]
  },
  {
   "cell_type": "code",
   "execution_count": null,
   "metadata": {
    "collapsed": true
   },
   "outputs": [],
   "source": []
  },
  {
   "cell_type": "code",
   "execution_count": 18,
   "metadata": {},
   "outputs": [
    {
     "data": {
      "text/plain": [
       "'自 2014 年起多元資產基金逐漸風行，台灣不乏境內外這類基金商品，但發行產品多以全球為主，野村投信今 (7) 日宣布，推出鎖定投資高成長亞洲市場的多重資產基金，聚焦亞洲區域，利用多重資產投資策略，採多元分散、主動操作特性，協助投資人全面掌握股債收益與資本利得機會。\\n野村投信投資長周文森 (Vincent Bourdarie) 表示，全球經濟同步成長、低通膨環境有利於央行維持寬鬆的貨幣政策，發展多重資產基金是近年的新趨勢，多重資產基金不僅可以滿足投資人對追求主動報酬的渴望，又可以利用策略多元投資布局股票、債券及選擇權等新金融商品，不僅能分散布局降低風險，還能追求收益機會。\\n根據 Morningstar 統計 (截至 2017/11/3 止)，台灣已核備之境內外股票基金(不含避險級別) 多達 1124 檔，其中投資於新興市場之基金為 323 檔，比重達 29%；債券型基金共 305 檔，有 73 檔投資於新興市場，比重為 24%；而因應降波動與追求收益兼備的新趨勢，近五年已核備之多重資產基金達 161 檔，其中聚焦新興市場者僅 17 檔，占比僅 10%，專注於亞洲市場的基金更只有個位數，這次野村投信再推出進階版的多重資產基金，聚焦成長中的亞太區域，期望兼顧風險與收益，為投資人掌握 2018 年亞洲資本利得成長與債券、股息固定收益之機會。\\n野村亞太收益多重資產基金經理人黃家珍指出，亞太收益策略的三大特色包括: 瞄準收益、參與成長以及多元分散，儘管經濟步入成長的擴張期，但市場仍可能出現些許雜音，想追求主動報酬、瞄準收益需求，又想避免波動度，投資亞洲多重資產基金是最佳選擇，亞洲區域無論股票股利、債息與權利金收益，均高於其他成熟市場，未來將持續受到國際市場青睞。\\n黃家珍表示，投資人雖然也可以利用股債及各類商品投資做資產布局，但真正的多重資產基金需對於各類資產、貨幣及金融商品有深入研究能力，還要能掌握進出場布局策略。此檔新基金的投資策略除了布局亞洲股票、亞洲高收益債與投資級債券，並搭配保護性選擇權，不僅能分散標的以降低下檔風險，還能掌握債息等收益機會。\\n'"
      ]
     },
     "execution_count": 18,
     "metadata": {},
     "output_type": "execute_result"
    }
   ],
   "source": [
    "news_text=util.get_news_article('https://news.cnyes.com/news/id/3958193')\n",
    "news_text"
   ]
  },
  {
   "cell_type": "code",
   "execution_count": 19,
   "metadata": {},
   "outputs": [
    {
     "data": {
      "text/plain": [
       "['資產',\n",
       " '投資',\n",
       " '市場',\n",
       " '多重',\n",
       " '亞洲',\n",
       " '收益',\n",
       " '成長',\n",
       " '基金',\n",
       " '投資人',\n",
       " '野村',\n",
       " '投信',\n",
       " '主動',\n",
       " '機會',\n",
       " '不僅',\n",
       " '風險',\n",
       " '債券',\n",
       " '布局',\n",
       " '多元',\n",
       " '策略',\n",
       " '家珍']"
      ]
     },
     "execution_count": 19,
     "metadata": {},
     "output_type": "execute_result"
    }
   ],
   "source": [
    "Keywords=jieba.analyse.extract_tags(news_text,topK=20)\n",
    "Keywords"
   ]
  },
  {
   "cell_type": "code",
   "execution_count": 8,
   "metadata": {},
   "outputs": [
    {
     "data": {
      "text/plain": [
       "'自 2014 年起多元資產基金逐漸風行，台灣不乏境內外這類基金商品，但發行產品多以全球為主，野村投信今 (7) 日宣布，推出鎖定投資高成長亞洲市場的多重資產基金，聚焦亞洲區域，利用多重資產投資策略，採多元分散、主動操作特性，協助投資人全面掌握股債收益與資本利得機會。\\n野村投信投資長周文森 (Vincent Bourdarie) 表示，全球經濟同步成長、低通膨環境有利於央行維持寬鬆的貨幣政策，發展多重資產基金是近年的新趨勢，多重資產基金不僅可以滿足投資人對追求主動報酬的渴望，又可以利用策略多元投資布局股票、債券及選擇權等新金融商品，不僅能分散布局降低風險，還能追求收益機會。\\n根據 Morningstar 統計 (截至 2017/11/3 止)，台灣已核備之境內外股票基金(不含避險級別) 多達 1124 檔，其中投資於新興市場之基金為 323 檔，比重達 29%；債券型基金共 305 檔，有 73 檔投資於新興市場，比重為 24%；而因應降波動與追求收益兼備的新趨勢，近五年已核備之多重資產基金達 161 檔，其中聚焦新興市場者僅 17 檔，占比僅 10%，專注於亞洲市場的基金更只有個位數，這次野村投信再推出進階版的多重資產基金，聚焦成長中的亞太區域，期望兼顧風險與收益，為投資人掌握 2018 年亞洲資本利得成長與債券、股息固定收益之機會。\\n野村亞太收益多重資產基金經理人黃家珍指出，亞太收益策略的三大特色包括: 瞄準收益、參與成長以及多元分散，儘管經濟步入成長的擴張期，但市場仍可能出現些許雜音，想追求主動報酬、瞄準收益需求，又想避免波動度，投資亞洲多重資產基金是最佳選擇，亞洲區域無論股票股利、債息與權利金收益，均高於其他成熟市場，未來將持續受到國際市場青睞。\\n黃家珍表示，投資人雖然也可以利用股債及各類商品投資做資產布局，但真正的多重資產基金需對於各類資產、貨幣及金融商品有深入研究能力，還要能掌握進出場布局策略。此檔新基金的投資策略除了布局亞洲股票、亞洲高收益債與投資級債券，並搭配保護性選擇權，不僅能分散標的以降低下檔風險，還能掌握債息等收益機會。\\n'"
      ]
     },
     "execution_count": 8,
     "metadata": {},
     "output_type": "execute_result"
    }
   ],
   "source": []
  },
  {
   "cell_type": "code",
   "execution_count": 14,
   "metadata": {
    "collapsed": true
   },
   "outputs": [],
   "source": []
  },
  {
   "cell_type": "code",
   "execution_count": 15,
   "metadata": {},
   "outputs": [
    {
     "data": {
      "text/plain": [
       "['資產',\n",
       " '投資',\n",
       " '市場',\n",
       " '多重',\n",
       " '亞洲',\n",
       " '收益',\n",
       " '成長',\n",
       " '基金',\n",
       " '投資人',\n",
       " '野村',\n",
       " '投信',\n",
       " '主動',\n",
       " '機會',\n",
       " '不僅',\n",
       " '風險',\n",
       " '債券',\n",
       " '布局',\n",
       " '多元',\n",
       " '策略',\n",
       " '家珍']"
      ]
     },
     "execution_count": 15,
     "metadata": {},
     "output_type": "execute_result"
    }
   ],
   "source": []
  },
  {
   "cell_type": "code",
   "execution_count": null,
   "metadata": {
    "collapsed": true
   },
   "outputs": [],
   "source": []
  },
  {
   "cell_type": "code",
   "execution_count": 4,
   "metadata": {},
   "outputs": [
    {
     "data": {
      "text/plain": [
       "'自 2014 年起多元資產基金逐漸風行，台灣不乏境內外這類基金商品，但發行產品多以全球為主，野村投信今 (7) 日宣布，推出鎖定投資高成長亞洲市場的多重資產基金，聚焦亞洲區域，利用多重資產投資策略，採多元分散、主動操作特性，協助投資人全面掌握股債收益與資本利得機會。\\n野村投信投資長周文森 (Vincent Bourdarie) 表示，全球經濟同步成長、低通膨環境有利於央行維持寬鬆的貨幣政策，發展多重資產基金是近年的新趨勢，多重資產基金不僅可以滿足投資人對追求主動報酬的渴望，又可以利用策略多元投資布局股票、債券及選擇權等新金融商品，不僅能分散布局降低風險，還能追求收益機會。\\n根據 Morningstar 統計 (截至 2017/11/3 止)，台灣已核備之境內外股票基金(不含避險級別) 多達 1124 檔，其中投資於新興市場之基金為 323 檔，比重達 29%；債券型基金共 305 檔，有 73 檔投資於新興市場，比重為 24%；而因應降波動與追求收益兼備的新趨勢，近五年已核備之多重資產基金達 161 檔，其中聚焦新興市場者僅 17 檔，占比僅 10%，專注於亞洲市場的基金更只有個位數，這次野村投信再推出進階版的多重資產基金，聚焦成長中的亞太區域，期望兼顧風險與收益，為投資人掌握 2018 年亞洲資本利得成長與債券、股息固定收益之機會。\\n野村亞太收益多重資產基金經理人黃家珍指出，亞太收益策略的三大特色包括: 瞄準收益、參與成長以及多元分散，儘管經濟步入成長的擴張期，但市場仍可能出現些許雜音，想追求主動報酬、瞄準收益需求，又想避免波動度，投資亞洲多重資產基金是最佳選擇，亞洲區域無論股票股利、債息與權利金收益，均高於其他成熟市場，未來將持續受到國際市場青睞。\\n黃家珍表示，投資人雖然也可以利用股債及各類商品投資做資產布局，但真正的多重資產基金需對於各類資產、貨幣及金融商品有深入研究能力，還要能掌握進出場布局策略。此檔新基金的投資策略除了布局亞洲股票、亞洲高收益債與投資級債券，並搭配保護性選擇權，不僅能分散標的以降低下檔風險，還能掌握債息等收益機會。\\n'"
      ]
     },
     "execution_count": 4,
     "metadata": {},
     "output_type": "execute_result"
    }
   ],
   "source": []
  },
  {
   "cell_type": "code",
   "execution_count": null,
   "metadata": {
    "collapsed": true
   },
   "outputs": [],
   "source": []
  },
  {
   "cell_type": "code",
   "execution_count": null,
   "metadata": {
    "collapsed": true
   },
   "outputs": [],
   "source": []
  },
  {
   "cell_type": "code",
   "execution_count": null,
   "metadata": {
    "collapsed": true
   },
   "outputs": [],
   "source": []
  },
  {
   "cell_type": "code",
   "execution_count": null,
   "metadata": {
    "collapsed": true
   },
   "outputs": [],
   "source": []
  },
  {
   "cell_type": "code",
   "execution_count": null,
   "metadata": {
    "collapsed": true
   },
   "outputs": [],
   "source": []
  },
  {
   "cell_type": "code",
   "execution_count": null,
   "metadata": {
    "collapsed": true
   },
   "outputs": [],
   "source": []
  },
  {
   "cell_type": "code",
   "execution_count": null,
   "metadata": {
    "collapsed": true
   },
   "outputs": [],
   "source": []
  },
  {
   "cell_type": "code",
   "execution_count": null,
   "metadata": {
    "collapsed": true
   },
   "outputs": [],
   "source": []
  }
 ],
 "metadata": {
  "kernelspec": {
   "display_name": "Python 3",
   "language": "python",
   "name": "python3"
  },
  "language_info": {
   "codemirror_mode": {
    "name": "ipython",
    "version": 3
   },
   "file_extension": ".py",
   "mimetype": "text/x-python",
   "name": "python",
   "nbconvert_exporter": "python",
   "pygments_lexer": "ipython3",
   "version": "3.6.2"
  }
 },
 "nbformat": 4,
 "nbformat_minor": 2
}
